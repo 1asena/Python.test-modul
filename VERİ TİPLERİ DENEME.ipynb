{
 "cells": [
  {
   "cell_type": "code",
   "execution_count": null,
   "id": "46331789",
   "metadata": {},
   "outputs": [],
   "source": [
    "## İPUÇLARI ##\n",
    "\n",
    "Veri Tipi---Kisaltma    -----    Örnekler          \n",
    "----------------------------------------------------------|\n",
    "Integer---   int     ----       8, 13                     |\n",
    "Float  ---  float    ----     1.5, 9.0                    |\n",
    "String ---   str    ----     \"D7k\", '6'                   |\n",
    "Boolean---   bool   ----     True, False                  |\n",
    "List  ----  list    ----     [1,2,True, 'a', 1]           |  \n",
    "Set   ----  set     ---       {1,2,True, 'a'}             |\n",
    "Dictionary-- dict  --- {'isim': 'lora, 'yaş': 21}         |\n",
    "Tuple ------ tup   ---       (1, 2, True)                 |\n",
    "----------------------------------------------------------|"
   ]
  },
  {
   "cell_type": "markdown",
   "id": "57e151f9",
   "metadata": {},
   "source": [
    "Aşağıdaki hücrelerde bulunan, işlemleri 'print' komutunu kullanarak ekrana yazdırınız."
   ]
  },
  {
   "cell_type": "code",
   "execution_count": null,
   "id": "c714f465",
   "metadata": {},
   "outputs": [],
   "source": [
    "# 4 ve 8'in toplamını print ile yazdırınız."
   ]
  },
  {
   "cell_type": "code",
   "execution_count": null,
   "id": "5703e3ef",
   "metadata": {},
   "outputs": [],
   "source": [
    "# 9 ve 32 ün çarpımını print ile yazdırınız."
   ]
  },
  {
   "cell_type": "code",
   "execution_count": null,
   "id": "dd91bedf",
   "metadata": {},
   "outputs": [],
   "source": [
    "# 7 ve 2'nin bölümünden kalanı print ile yazdırınız.[İpucu:%]"
   ]
  },
  {
   "cell_type": "markdown",
   "id": "f55635d5",
   "metadata": {},
   "source": [
    "Aşağıdaki hücreleri kullanarak, işlemlerin hangi veri tipi olduğunu belirtiniz."
   ]
  },
  {
   "cell_type": "code",
   "execution_count": null,
   "id": "3f8b3289",
   "metadata": {},
   "outputs": [],
   "source": [
    "# 5.7 ve 9.3 toplamının veri tipini belirtiniz."
   ]
  },
  {
   "cell_type": "code",
   "execution_count": null,
   "id": "bf41f940",
   "metadata": {},
   "outputs": [],
   "source": [
    "#4.5 ve 6.0 toplamını print komutu ile yazdırınız."
   ]
  },
  {
   "cell_type": "markdown",
   "id": "c04a36b3",
   "metadata": {},
   "source": [
    "# Boolean #"
   ]
  },
  {
   "cell_type": "code",
   "execution_count": null,
   "id": "c33da0cd",
   "metadata": {},
   "outputs": [],
   "source": [
    "X= True\n",
    "Y= False\n",
    "Z='True'"
   ]
  },
  {
   "cell_type": "code",
   "execution_count": null,
   "id": "c48879a1",
   "metadata": {},
   "outputs": [],
   "source": [
    "# X==Y ifadesinin cevabını ne olarak değerlendirir?"
   ]
  },
  {
   "cell_type": "code",
   "execution_count": null,
   "id": "e4a0fa98",
   "metadata": {},
   "outputs": [],
   "source": [
    "#Z==X ifadesinin cevabını ne olarak değerlendirir?"
   ]
  },
  {
   "cell_type": "code",
   "execution_count": null,
   "id": "61fac0d0",
   "metadata": {},
   "outputs": [],
   "source": [
    "# X!==Y ifadesinin cevabını ne olarak değerlendirir?"
   ]
  },
  {
   "cell_type": "code",
   "execution_count": null,
   "id": "4668a735",
   "metadata": {},
   "outputs": [],
   "source": [
    "# Type(4)==Type('4') ifadesinin cevabını ne olarak değerlendirir?"
   ]
  },
  {
   "cell_type": "markdown",
   "id": "8faf1409",
   "metadata": {},
   "source": [
    "# Yazılar #"
   ]
  },
  {
   "cell_type": "code",
   "execution_count": null,
   "id": "428a40fa",
   "metadata": {},
   "outputs": [],
   "source": [
    "stravar= 'Türk Hack Team'"
   ]
  },
  {
   "cell_type": "markdown",
   "id": "1a24c016",
   "metadata": {},
   "source": [
    "Yukarıdaki değişkeni kullanarak, aşağıdaki hücrelerde bulunan işlemleri cevaplayınız."
   ]
  },
  {
   "cell_type": "code",
   "execution_count": null,
   "id": "f8c8b7ea",
   "metadata": {},
   "outputs": [],
   "source": [
    "# \"a\" harfini index komutu kullanmadan cevaplandırınız. (İpucu: [])"
   ]
  },
  {
   "cell_type": "code",
   "execution_count": null,
   "id": "f42f4616",
   "metadata": {},
   "outputs": [],
   "source": [
    "# \"t\" harfinin konumunu, index komutu kullanarak cevaplayınız."
   ]
  },
  {
   "cell_type": "markdown",
   "id": "7d52c1e8",
   "metadata": {},
   "source": [
    "# Listeler ve Setler #"
   ]
  },
  {
   "cell_type": "code",
   "execution_count": null,
   "id": "8e813b9c",
   "metadata": {},
   "outputs": [],
   "source": [
    "liste= [1, 'a', 2,'x', True, 4, 5, 'True']"
   ]
  },
  {
   "cell_type": "markdown",
   "id": "361eaacc",
   "metadata": {},
   "source": [
    "Yukarıdaki değişkeni kullanarak, aşağıdaki hücrelerde bulunan, işlemleri cevaplayınız."
   ]
  },
  {
   "cell_type": "code",
   "execution_count": null,
   "id": "7ee0cfa6",
   "metadata": {},
   "outputs": [],
   "source": [
    "# listenin son elemanı nasıl cevaplandırabiliriz?"
   ]
  },
  {
   "cell_type": "code",
   "execution_count": null,
   "id": "ba96499c",
   "metadata": {},
   "outputs": [],
   "source": [
    "# Listenin 3. ve 5. elemanlarını içeren yeni bir liste oluşturunuz. (İpucu [::])"
   ]
  },
  {
   "cell_type": "code",
   "execution_count": null,
   "id": "fcc7bdad",
   "metadata": {},
   "outputs": [],
   "source": [
    "# Listeyi metod kullanarak nasıl ters sıralandırabiliriz?"
   ]
  },
  {
   "cell_type": "markdown",
   "id": "0815128d",
   "metadata": {},
   "source": [
    "# Dictionary #"
   ]
  },
  {
   "cell_type": "code",
   "execution_count": null,
   "id": "41be9d6c",
   "metadata": {},
   "outputs": [],
   "source": [
    "# Dictionary oluştururken kullanılan anahtar ve değer çiftinin Python'daki karşılıkları nelerdir?"
   ]
  },
  {
   "cell_type": "code",
   "execution_count": null,
   "id": "32f330a5",
   "metadata": {},
   "outputs": [],
   "source": [
    "Dict={'isim': 'lora', 'yaş':'21', 'yaşadığı yer':'londra',}"
   ]
  },
  {
   "cell_type": "code",
   "execution_count": null,
   "id": "7d680667",
   "metadata": {},
   "outputs": [],
   "source": [
    "# yukaradaki bilgileri kullanarak 21 değerine nasıl ulaşabiliriz?"
   ]
  },
  {
   "cell_type": "code",
   "execution_count": null,
   "id": "b3c9895d",
   "metadata": {},
   "outputs": [],
   "source": [
    "# Dict değişkenindeki londra değerine nasıl ulaşabiliriz? "
   ]
  },
  {
   "cell_type": "markdown",
   "id": "8be334cc",
   "metadata": {},
   "source": [
    "# Genel Sorular #"
   ]
  },
  {
   "cell_type": "code",
   "execution_count": null,
   "id": "fa60e607",
   "metadata": {},
   "outputs": [],
   "source": [
    "# String ifadelerinin içerisinde \\t ile \\n kullanmanın farkı nedir?"
   ]
  },
  {
   "cell_type": "code",
   "execution_count": null,
   "id": "2ea38606",
   "metadata": {},
   "outputs": [],
   "source": [
    "# print komutu ile ve print komutsuz yazdırmanın farkları nedir?"
   ]
  },
  {
   "cell_type": "code",
   "execution_count": null,
   "id": "8ab3ef73",
   "metadata": {},
   "outputs": [],
   "source": [
    "# Dictionary veri tipinin listeden farkı nedir?"
   ]
  },
  {
   "cell_type": "code",
   "execution_count": null,
   "id": "a0b58f78",
   "metadata": {},
   "outputs": [],
   "source": [
    "# Tuple ile liste arasındaki farklar nelerdir?"
   ]
  },
  {
   "cell_type": "code",
   "execution_count": null,
   "id": "46f723d8",
   "metadata": {},
   "outputs": [],
   "source": [
    "# strvar.lower().upper() ifadesinin cevabi nedir?"
   ]
  }
 ],
 "metadata": {
  "kernelspec": {
   "display_name": "Python 3 (ipykernel)",
   "language": "python",
   "name": "python3"
  },
  "language_info": {
   "codemirror_mode": {
    "name": "ipython",
    "version": 3
   },
   "file_extension": ".py",
   "mimetype": "text/x-python",
   "name": "python",
   "nbconvert_exporter": "python",
   "pygments_lexer": "ipython3",
   "version": "3.9.13"
  }
 },
 "nbformat": 4,
 "nbformat_minor": 5
}
